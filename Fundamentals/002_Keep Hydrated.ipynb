{
 "cells": [
  {
   "attachments": {},
   "cell_type": "markdown",
   "metadata": {},
   "source": [
    "Nathan loves cycling.\n",
    "\n",
    "Because Nathan knows it is important to stay hydrated, he drinks 0.5 litres of water per hour of cycling.\n",
    "\n",
    "You get given the time in hours and you need to return the number of litres Nathan will drink, rounded to the smallest value.\n",
    "\n",
    "For example:\n",
    "\n",
    "```time = 3 ----> litres = 1\n",
    "\n",
    "time = 6.7---> litres = 3\n",
    "\n",
    "time = 11.8--> litres = 5```"
   ]
  },
  {
   "cell_type": "code",
   "execution_count": 1,
   "metadata": {},
   "outputs": [],
   "source": [
    "import math\n",
    "\n",
    "def litres(time):\n",
    "    litres = math.floor(time * 0.5)\n",
    "    return litres"
   ]
  },
  {
   "cell_type": "code",
   "execution_count": 2,
   "metadata": {},
   "outputs": [
    {
     "name": "stdout",
     "output_type": "stream",
     "text": [
      "1\n",
      "3\n",
      "5\n"
     ]
    }
   ],
   "source": [
    "print(litres(3))    # Output: 1\n",
    "print(litres(6.7))  # Output: 3\n",
    "print(litres(11.8)) # Output: 5\n"
   ]
  }
 ],
 "metadata": {
  "kernelspec": {
   "display_name": "base",
   "language": "python",
   "name": "python3"
  },
  "language_info": {
   "codemirror_mode": {
    "name": "ipython",
    "version": 3
   },
   "file_extension": ".py",
   "mimetype": "text/x-python",
   "name": "python",
   "nbconvert_exporter": "python",
   "pygments_lexer": "ipython3",
   "version": "3.9.13"
  },
  "orig_nbformat": 4,
  "vscode": {
   "interpreter": {
    "hash": "12686f5c8f2146f3ebd31189e791edaca469a5f033bca17d54c2d16ca276d9c0"
   }
  }
 },
 "nbformat": 4,
 "nbformat_minor": 2
}
