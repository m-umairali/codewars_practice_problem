{
 "cells": [
  {
   "attachments": {},
   "cell_type": "markdown",
   "metadata": {},
   "source": [
    "# Counting Sheeps\n",
    "\n",
    "Consider an array/list of sheep where some sheep may be missing from their place. We need a function that counts the number of sheep present in the array (true means present).\n",
    "\n",
    "For example,\n",
    "\n",
    "``[True,  True,  True,  False,\n",
    "  True,  True,  True,  True ,\n",
    "  True,  False, True,  False,\n",
    "  True,  False, False, True ,\n",
    "  True,  True,  True,  True ,\n",
    "  False, False, True,  True]``\n",
    "\n",
    "  \n",
    "The correct answer would be 17.\n",
    "\n",
    "Hint: Don't forget to check for bad values like null/undefined"
   ]
  },
  {
   "cell_type": "code",
   "execution_count": 1,
   "metadata": {},
   "outputs": [
    {
     "name": "stdout",
     "output_type": "stream",
     "text": [
      "17\n"
     ]
    }
   ],
   "source": [
    "def count_sheep(sheep):\n",
    "    count = 0\n",
    "    for s in sheep:\n",
    "        if s == True:\n",
    "            count += 1\n",
    "    return count\n",
    "\n",
    "sheep = [True,  True,  True,  False,\n",
    "         True,  True,  True,  True ,\n",
    "         True,  False, True,  False,\n",
    "         True,  False, False, True ,\n",
    "         True,  True,  True,  True ,\n",
    "         False, False, True,  True]\n",
    "\n",
    "sheep_count = count_sheep(sheep)\n",
    "print(sheep_count)\n"
   ]
  },
  {
   "cell_type": "code",
   "execution_count": null,
   "metadata": {},
   "outputs": [],
   "source": []
  }
 ],
 "metadata": {
  "kernelspec": {
   "display_name": "universal",
   "language": "python",
   "name": "python3"
  },
  "language_info": {
   "codemirror_mode": {
    "name": "ipython",
    "version": 3
   },
   "file_extension": ".py",
   "mimetype": "text/x-python",
   "name": "python",
   "nbconvert_exporter": "python",
   "pygments_lexer": "ipython3",
   "version": "3.7.15"
  },
  "orig_nbformat": 4,
  "vscode": {
   "interpreter": {
    "hash": "ab5b6c0291e3a6e64315cdecc139682cd8bec952b95998706c68e621642840ed"
   }
  }
 },
 "nbformat": 4,
 "nbformat_minor": 2
}
